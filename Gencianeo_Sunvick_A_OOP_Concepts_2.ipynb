{
  "nbformat": 4,
  "nbformat_minor": 0,
  "metadata": {
    "colab": {
      "name": "Gencianeo Sunvick A.OOP Concepts_2",
      "provenance": [],
      "authorship_tag": "ABX9TyP4NAjUr8NlV7buKDcpR8AW",
      "include_colab_link": true
    },
    "kernelspec": {
      "name": "python3",
      "display_name": "Python 3"
    },
    "language_info": {
      "name": "python"
    }
  },
  "cells": [
    {
      "cell_type": "markdown",
      "metadata": {
        "id": "view-in-github",
        "colab_type": "text"
      },
      "source": [
        "<a href=\"https://colab.research.google.com/github/Sunvick/OPP-58001/blob/main/Gencianeo_Sunvick_A_OOP_Concepts_2.ipynb\" target=\"_parent\"><img src=\"https://colab.research.google.com/assets/colab-badge.svg\" alt=\"Open In Colab\"/></a>"
      ]
    },
    {
      "cell_type": "markdown",
      "source": [
        "**Classes with Multiple Objects**"
      ],
      "metadata": {
        "id": "DWp_JeqjS3sC"
      }
    },
    {
      "cell_type": "code",
      "source": [
        "class Birds:\n",
        "  def __init__(self, bird_name):\n",
        "    self.bird_name = bird_name\n",
        "  def flying_birds(self):\n",
        "    print(f\"{self.bird_name} flies above clouds.\")\n",
        "  def non_flying_birds(self):\n",
        "    print(f\"{self.bird_name} is the national bird of the Philippines.\")\n",
        "\n",
        "vulture = Birds(\"Griffon Vulture\")\n",
        "crane = Birds(\"Common Crane\")\n",
        "emu = Birds(\"Emu\")\n",
        "\n",
        "vulture.flying_birds()\n",
        "crane.flying_birds()\n",
        "emu.non_flying_birds()"
      ],
      "metadata": {
        "colab": {
          "base_uri": "https://localhost:8080/"
        },
        "id": "8-gwriTbS85N",
        "outputId": "639def4f-8bdc-4f99-a0e6-1a01f318884e"
      },
      "execution_count": null,
      "outputs": [
        {
          "output_type": "stream",
          "name": "stdout",
          "text": [
            "Griffon Vulture flies above clouds.\n",
            "Common Crane flies above clouds.\n",
            "Emu is the national bird of the Philippines.\n"
          ]
        }
      ]
    },
    {
      "cell_type": "markdown",
      "source": [
        "**Encapsulation**"
      ],
      "metadata": {
        "id": "VfEGvdNmYmPR"
      }
    },
    {
      "cell_type": "code",
      "source": [
        "class foo:\n",
        "  def __init__(self,a,b):\n",
        "    self.a = a\n",
        "    self.b = b\n",
        "  def add(self):\n",
        "    return self.a + self.b\n",
        "\n",
        "foo_object = foo(3,4)\n",
        "foo_object.add()"
      ],
      "metadata": {
        "colab": {
          "base_uri": "https://localhost:8080/"
        },
        "id": "pJDTljp_YoYQ",
        "outputId": "7bca335f-58c9-47c2-e22b-77aa3f82cdb8"
      },
      "execution_count": null,
      "outputs": [
        {
          "output_type": "execute_result",
          "data": {
            "text/plain": [
              "7"
            ]
          },
          "metadata": {},
          "execution_count": 5
        }
      ]
    },
    {
      "cell_type": "code",
      "source": [
        "class foo:\n",
        "  def __init__(self,c,d):\n",
        "    self.c = c\n",
        "    self.d = d\n",
        "  def add(self):\n",
        "    return self.c + self.d\n",
        "\n",
        "foo_object = foo(3,4)\n",
        "foo_object.add()\n",
        "\n",
        "foo_object.c = 6\n",
        "foo_object.add()"
      ],
      "metadata": {
        "colab": {
          "base_uri": "https://localhost:8080/"
        },
        "id": "FZN7Za40Zlqd",
        "outputId": "3c12ae9e-d5fe-4ae0-bd81-45663d6e9a8e"
      },
      "execution_count": null,
      "outputs": [
        {
          "output_type": "execute_result",
          "data": {
            "text/plain": [
              "10"
            ]
          },
          "metadata": {},
          "execution_count": 6
        }
      ]
    },
    {
      "cell_type": "markdown",
      "source": [
        "**Encapsulation**"
      ],
      "metadata": {
        "id": "W_tKW3VLZpc9"
      }
    },
    {
      "cell_type": "code",
      "source": [
        "class Counter:\n",
        "    def __init__(self):\n",
        "        self.current = 0\n",
        "\n",
        "    def increment(self):\n",
        "        self.current += 1\n",
        "\n",
        "    def value(self):\n",
        "        return self.current\n",
        "\n",
        "    def reset(self):\n",
        "        self.current = 0\n",
        "\n",
        "counter = Counter()\n",
        "\n",
        "counter.increment()\n",
        "counter.increment()\n",
        "counter.increment()\n",
        "\n",
        "print(counter.value())"
      ],
      "metadata": {
        "colab": {
          "base_uri": "https://localhost:8080/"
        },
        "id": "FMmQzWZDZtAO",
        "outputId": "381383f5-d1a4-486f-a27f-83dfcaf27902"
      },
      "execution_count": null,
      "outputs": [
        {
          "output_type": "stream",
          "name": "stdout",
          "text": [
            "3\n"
          ]
        }
      ]
    },
    {
      "cell_type": "markdown",
      "source": [
        "**Inheritance**"
      ],
      "metadata": {
        "id": "XYsnubctZxLY"
      }
    },
    {
      "cell_type": "code",
      "source": [
        "class Person:\n",
        "  def __init__(self,fname,sname):\n",
        "    self.fname = fname\n",
        "    self.sname = sname\n",
        "  def printname(self):\n",
        "    print(self.fname,self.sname)\n",
        "\n",
        "x = Person(\"Maria\", \"Sayo\")\n",
        "x.printname()\n",
        "\n",
        "class Teacher(Person):\n",
        "  pass\n",
        "\n",
        "x = Teacher(\"Rizette\", \"Sayo\")\n",
        "x.printname()"
      ],
      "metadata": {
        "colab": {
          "base_uri": "https://localhost:8080/"
        },
        "id": "LKTl9tmjZzmQ",
        "outputId": "81324ced-32b0-41a1-957a-c55898f12d05"
      },
      "execution_count": null,
      "outputs": [
        {
          "output_type": "stream",
          "name": "stdout",
          "text": [
            "Maria Sayo\n",
            "Rizette Sayo\n"
          ]
        }
      ]
    },
    {
      "cell_type": "markdown",
      "source": [
        "**Polymorphism**"
      ],
      "metadata": {
        "id": "l5rDqzp0Z3v-"
      }
    },
    {
      "cell_type": "code",
      "source": [
        "class RegularPolygon:\n",
        "  def __init__(self,side):\n",
        "    self._side = side\n",
        "\n",
        "class Square(RegularPolygon):\n",
        "  def area(self):\n",
        "    return self._side*self._side\n",
        "\n",
        "class EquilateralTriangle(RegularPolygon):\n",
        "  def area(self):\n",
        "    return self._side*self._side*0.433\n",
        "\n",
        "obj1 = Square(4)\n",
        "obj2 = EquilateralTriangle(3)\n",
        "\n",
        "print(obj1.area())\n",
        "print(obj2.area())"
      ],
      "metadata": {
        "colab": {
          "base_uri": "https://localhost:8080/"
        },
        "id": "wsUOrb4yZ7AW",
        "outputId": "ed6daf78-a1b2-41df-9b52-8b3bed0b0724"
      },
      "execution_count": null,
      "outputs": [
        {
          "output_type": "stream",
          "name": "stdout",
          "text": [
            "16\n",
            "3.897\n"
          ]
        }
      ]
    },
    {
      "cell_type": "markdown",
      "source": [
        "\n",
        "\n",
        "* **Create a Python program that displays the name of three students (Studer 1, Student 2, and Student 3) and the term grades**\n",
        "*   **Create a class name Person and attributes - std1, std2, std3, pre,mid, fin**\n",
        "* **Compute the average of each term grade using Grade() method**\n",
        "* **Information about student's grades must be hidden from others**\n",
        "\n",
        "\n",
        "\n",
        "\n",
        "\n"
      ],
      "metadata": {
        "id": "to7XSR_ke0xI"
      }
    },
    {
      "cell_type": "code",
      "source": [
        "import random \n",
        "\n",
        "class Person:\n",
        "  def __init__(self, student, pre, mid, fin):\n",
        "    self.student = student\n",
        "    self.pre = pre *0.30\n",
        "    self.mid = mid *0.30\n",
        "    self.fin = fin *0.40\n",
        "\n",
        "  def Grade (self):\n",
        "    print (self.student, \"has an average grade of\", self.pre, \"in prelims\")\n",
        "    print (self.student, \"has an average grade of\", self.mid, \"in midterms\")\n",
        "    print (self.student, \"has an average grade of\", self.fin, \"in finals\")\n",
        "\n",
        "std1 = Person (\"molly\", random.randint(80,99), random.randint(85,99), random.randint(90,99))\n",
        "std2 = Person (\"leY\", random.randint(80,99), random.randint(85,99), random.randint(90,99))\n",
        "std3 = Person (\"sacHI\", random.randint(80,99), random.randint(85,99), random.randint(90,99))\n",
        "\n",
        "std1.Grade()\n",
        "std2.Grade()\n",
        "std3.Grade()"
      ],
      "metadata": {
        "colab": {
          "base_uri": "https://localhost:8080/"
        },
        "id": "na32ziCQTOlu",
        "outputId": "8e5aa50d-3e1f-4103-f9dc-cdbf2a6e622c"
      },
      "execution_count": null,
      "outputs": [
        {
          "output_type": "stream",
          "name": "stdout",
          "text": [
            "molly has an average grade of 24.9 in prelims\n",
            "molly has an average grade of 27.9 in midterms\n",
            "molly has an average grade of 37.2 in finals\n",
            "leY has an average grade of 24.9 in prelims\n",
            "leY has an average grade of 26.4 in midterms\n",
            "leY has an average grade of 37.6 in finals\n",
            "sacHI has an average grade of 26.4 in prelims\n",
            "sacHI has an average grade of 27.3 in midterms\n",
            "sacHI has an average grade of 37.2 in finals\n"
          ]
        }
      ]
    }
  ]
}