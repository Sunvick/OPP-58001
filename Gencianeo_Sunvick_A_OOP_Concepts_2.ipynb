{
  "nbformat": 4,
  "nbformat_minor": 0,
  "metadata": {
    "colab": {
      "name": "Gencianeo Sunvick A.OOP Concepts_2",
      "provenance": [],
      "authorship_tag": "ABX9TyN7VkoEEOaY0Rg704TKNQjC",
      "include_colab_link": true
    },
    "kernelspec": {
      "name": "python3",
      "display_name": "Python 3"
    },
    "language_info": {
      "name": "python"
    }
  },
  "cells": [
    {
      "cell_type": "markdown",
      "metadata": {
        "id": "view-in-github",
        "colab_type": "text"
      },
      "source": [
        "<a href=\"https://colab.research.google.com/github/Sunvick/OPP-58001/blob/main/Gencianeo_Sunvick_A_OOP_Concepts_2.ipynb\" target=\"_parent\"><img src=\"https://colab.research.google.com/assets/colab-badge.svg\" alt=\"Open In Colab\"/></a>"
      ]
    },
    {
      "cell_type": "markdown",
      "source": [
        "**Classes with Multiple Objects**"
      ],
      "metadata": {
        "id": "DWp_JeqjS3sC"
      }
    },
    {
      "cell_type": "code",
      "source": [
        "class Birds:\n",
        "  def __init__(self, bird_name):\n",
        "    self.bird_name = bird_name\n",
        "  def flying_birds(self):\n",
        "    print(f\"{self.bird_name} flies above clouds.\")\n",
        "  def non_flying_birds(self):\n",
        "    print(f\"{self.bird_name} is the national bird of the Philippines.\")\n",
        "\n",
        "vulture = Birds(\"Griffon Vulture\")\n",
        "crane = Birds(\"Common Crane\")\n",
        "emu = Birds(\"Emu\")\n",
        "\n",
        "vulture.flying_birds()\n",
        "crane.flying_birds()\n",
        "emu.non_flying_birds()"
      ],
      "metadata": {
        "colab": {
          "base_uri": "https://localhost:8080/"
        },
        "id": "8-gwriTbS85N",
        "outputId": "14152dd0-3cd0-42fc-d308-7ab61718bac5"
      },
      "execution_count": 2,
      "outputs": [
        {
          "output_type": "stream",
          "name": "stdout",
          "text": [
            "Griffon Vulture flies above clouds.\n",
            "Common Crane flies above clouds.\n",
            "Emu is the national bird of the Philippines.\n"
          ]
        }
      ]
    },
    {
      "cell_type": "markdown",
      "source": [
        "**Encapsulation**"
      ],
      "metadata": {
        "id": "VfEGvdNmYmPR"
      }
    },
    {
      "cell_type": "code",
      "source": [
        "class foo:\n",
        "  def __init__(self,a,b):\n",
        "    self.a = a\n",
        "    self.b = b\n",
        "  def add(self):\n",
        "    return self.a + self.b\n",
        "\n",
        "foo_object = foo(3,4)\n",
        "foo_object.add()"
      ],
      "metadata": {
        "colab": {
          "base_uri": "https://localhost:8080/"
        },
        "id": "pJDTljp_YoYQ",
        "outputId": "3fbdb62e-51c3-4bcc-e206-1ee381d030d9"
      },
      "execution_count": 3,
      "outputs": [
        {
          "output_type": "execute_result",
          "data": {
            "text/plain": [
              "7"
            ]
          },
          "metadata": {},
          "execution_count": 3
        }
      ]
    },
    {
      "cell_type": "code",
      "source": [
        "class foo:\n",
        "  def __init__(self,c,d):\n",
        "    self.c = c\n",
        "    self.d = d\n",
        "  def add(self):\n",
        "    return self.c + self.d\n",
        "\n",
        "foo_object = foo(3,4)\n",
        "foo_object.add()\n",
        "\n",
        "foo_object.c = 6\n",
        "foo_object.add()"
      ],
      "metadata": {
        "colab": {
          "base_uri": "https://localhost:8080/"
        },
        "id": "FZN7Za40Zlqd",
        "outputId": "621550d3-5d5f-4a58-d419-44788cea512a"
      },
      "execution_count": 4,
      "outputs": [
        {
          "output_type": "execute_result",
          "data": {
            "text/plain": [
              "10"
            ]
          },
          "metadata": {},
          "execution_count": 4
        }
      ]
    },
    {
      "cell_type": "markdown",
      "source": [
        "**Encapsulation**"
      ],
      "metadata": {
        "id": "W_tKW3VLZpc9"
      }
    },
    {
      "cell_type": "code",
      "source": [
        "class Counter:\n",
        "    def __init__(self):\n",
        "        self.current = 0\n",
        "\n",
        "    def increment(self):\n",
        "        self.current += 1\n",
        "\n",
        "    def value(self):\n",
        "        return self.current\n",
        "\n",
        "    def reset(self):\n",
        "        self.current = 0\n",
        "\n",
        "counter = Counter()\n",
        "\n",
        "counter.increment()\n",
        "counter.increment()\n",
        "counter.increment()\n",
        "\n",
        "print(counter.value())"
      ],
      "metadata": {
        "colab": {
          "base_uri": "https://localhost:8080/"
        },
        "id": "FMmQzWZDZtAO",
        "outputId": "f587d604-d8dc-40c8-8f3c-8f44beec0399"
      },
      "execution_count": 5,
      "outputs": [
        {
          "output_type": "stream",
          "name": "stdout",
          "text": [
            "3\n"
          ]
        }
      ]
    },
    {
      "cell_type": "markdown",
      "source": [
        "**Inheritance**"
      ],
      "metadata": {
        "id": "XYsnubctZxLY"
      }
    },
    {
      "cell_type": "code",
      "source": [
        "class Person:\n",
        "  def __init__(self,fname,sname):\n",
        "    self.fname = fname\n",
        "    self.sname = sname\n",
        "  def printname(self):\n",
        "    print(self.fname,self.sname)\n",
        "\n",
        "x = Person(\"Maria\", \"Sayo\")\n",
        "x.printname()\n",
        "\n",
        "class Teacher(Person):\n",
        "  pass\n",
        "\n",
        "x = Teacher(\"Kin\", \"Sunvick\")\n",
        "x.printname()"
      ],
      "metadata": {
        "colab": {
          "base_uri": "https://localhost:8080/"
        },
        "id": "LKTl9tmjZzmQ",
        "outputId": "c764bf19-d9f8-4e6d-ea69-afa5c7ae5f4c"
      },
      "execution_count": 6,
      "outputs": [
        {
          "output_type": "stream",
          "name": "stdout",
          "text": [
            "Maria Sayo\n",
            "Kin Sunvick\n"
          ]
        }
      ]
    },
    {
      "cell_type": "markdown",
      "source": [
        "**Polymorphism**"
      ],
      "metadata": {
        "id": "l5rDqzp0Z3v-"
      }
    },
    {
      "cell_type": "code",
      "source": [
        "class RegularPolygon:\n",
        "  def __init__(self,side):\n",
        "    self._side = side\n",
        "\n",
        "class Square(RegularPolygon):\n",
        "  def area(self):\n",
        "    return self._side*self._side\n",
        "\n",
        "class EquilateralTriangle(RegularPolygon):\n",
        "  def area(self):\n",
        "    return self._side*self._side*0.433\n",
        "\n",
        "obj1 = Square(4)\n",
        "obj2 = EquilateralTriangle(3)\n",
        "\n",
        "print(obj1.area())\n",
        "print(obj2.area())"
      ],
      "metadata": {
        "colab": {
          "base_uri": "https://localhost:8080/"
        },
        "id": "wsUOrb4yZ7AW",
        "outputId": "4c447f01-9db2-454d-fd7b-40991f099dc3"
      },
      "execution_count": 7,
      "outputs": [
        {
          "output_type": "stream",
          "name": "stdout",
          "text": [
            "16\n",
            "3.897\n"
          ]
        }
      ]
    },
    {
      "cell_type": "markdown",
      "source": [
        "\n",
        "\n",
        "* **Create a Python program that displays the name of three students (Studer 1, Student 2, and Student 3) and the term grades**\n",
        "*   **Create a class name Person and attributes - std1, std2, std3, pre,mid, fin**\n",
        "* **Compute the average of each term grade using Grade() method**\n",
        "* **Information about student's grades must be hidden from others**\n",
        "\n",
        "\n",
        "\n",
        "\n",
        "\n"
      ],
      "metadata": {
        "id": "to7XSR_ke0xI"
      }
    },
    {
      "cell_type": "code",
      "source": [
        "class Person:\n",
        "  def __init__(self,std,pre,mid,fin):\n",
        "    self.std = std\n",
        "    self.pre = pre\n",
        "    self.mid = mid\n",
        "    self.fin = fin\n",
        "\n",
        "  def Grade(self):\n",
        "    print(self.std, \"has an average of\",(self.pre*0.30)+(self.mid*0.30)+(self.fin*0.40), \"for his/her term grade.\")\n",
        "\n",
        "std1 = Person(\"\\nKin\", 90, 92, 92)\n",
        "std2 = Person(\"\\nSunvick\", 91, 92, 93)\n",
        "std3 = Person(\"\\nGencianeo\", 95, 94, 95)\n",
        "\n",
        "print(\"Press 1 if you want to view Kin's term grade.\")\n",
        "print(\"Press 2 if you want to view Sunvick's term grade.\")\n",
        "print(\"Press 3 if you want to view Gencianeo's term grade.\")\n",
        "n = int(input())\n",
        "\n",
        "if n==1:\n",
        "  std1.Grade()\n",
        "else:\n",
        "  if n==2:\n",
        "    std2.Grade()\n",
        "  else: \n",
        "    if n==3:\n",
        "      std3.Grade()"
      ],
      "metadata": {
        "colab": {
          "base_uri": "https://localhost:8080/"
        },
        "id": "na32ziCQTOlu",
        "outputId": "4cb7f560-8bff-47b0-afcf-3233974078ae"
      },
      "execution_count": 8,
      "outputs": [
        {
          "output_type": "stream",
          "name": "stdout",
          "text": [
            "Press 1 if you want to view Kin's term grade.\n",
            "Press 2 if you want to view Sunvick's term grade.\n",
            "Press 3 if you want to view Gencianeo's term grade.\n",
            "2\n",
            "\n",
            "Sunvick has an average of 92.1 for his/her term grade.\n"
          ]
        }
      ]
    }
  ]
}