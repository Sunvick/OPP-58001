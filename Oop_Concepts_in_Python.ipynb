{
  "nbformat": 4,
  "nbformat_minor": 0,
  "metadata": {
    "colab": {
      "name": "Oop_Concepts_in_Python.ipynb",
      "provenance": [],
      "authorship_tag": "ABX9TyMlKDJ281nvwhSYKMjQtrR2",
      "include_colab_link": true
    },
    "kernelspec": {
      "name": "python3",
      "display_name": "Python 3"
    },
    "language_info": {
      "name": "python"
    }
  },
  "cells": [
    {
      "cell_type": "markdown",
      "metadata": {
        "id": "view-in-github",
        "colab_type": "text"
      },
      "source": [
        "<a href=\"https://colab.research.google.com/github/Sunvick/OPP-58001/blob/main/Oop_Concepts_in_Python.ipynb\" target=\"_parent\"><img src=\"https://colab.research.google.com/assets/colab-badge.svg\" alt=\"Open In Colab\"/></a>"
      ]
    },
    {
      "cell_type": "markdown",
      "source": [
        "**Create a Class**"
      ],
      "metadata": {
        "id": "MX3n-cD85IiN"
      }
    },
    {
      "cell_type": "code",
      "source": [
        "class Car:\n",
        "  pass"
      ],
      "metadata": {
        "id": "34ULaFo-5b1o"
      },
      "execution_count": null,
      "outputs": []
    },
    {
      "cell_type": "code",
      "source": [
        "class MyClass:\n",
        "  X = 40"
      ],
      "metadata": {
        "id": "IkBBT3ih5c_N"
      },
      "execution_count": null,
      "outputs": []
    },
    {
      "cell_type": "markdown",
      "source": [
        "**Create an Object**"
      ],
      "metadata": {
        "id": "_fMdYhk45eQ_"
      }
    },
    {
      "cell_type": "code",
      "source": [
        "class Car():\n",
        "  def __init__(self,name,color):\n",
        "    self.name = name\n",
        "    self.color = color\n",
        "\n",
        "  def description(self):\n",
        "    return self.name + self.color\n",
        "\n",
        "  def show(self):\n",
        "    print(\"The name and color of the car is\", self.description())\n",
        "\n",
        "obj1 = Car(\"Honda City\",\" red\")\n",
        "obj1.show()"
      ],
      "metadata": {
        "colab": {
          "base_uri": "https://localhost:8080/"
        },
        "id": "7BL5MR-95f7i",
        "outputId": "ec226396-62d3-4872-da41-9f1d5c1168de"
      },
      "execution_count": 5,
      "outputs": [
        {
          "output_type": "stream",
          "name": "stdout",
          "text": [
            "The name and color of the car is Honda City red\n"
          ]
        }
      ]
    },
    {
      "cell_type": "markdown",
      "source": [
        "**Object Methods**"
      ],
      "metadata": {
        "id": "DcwHWAvK5l7h"
      }
    },
    {
      "cell_type": "code",
      "source": [
        "class Person:\n",
        "  def __init__(self,name, age):\n",
        "    self.name = name\n",
        "    self.age = age\n",
        "  def myFunction(self):\n",
        "    print(\"Hello! My name is\", self.name)\n",
        "    print(\"I am\", self.name)\n",
        "\n",
        "p1 = Person(\"Sunvick\", 18)\n",
        "p1.myFunction()"
      ],
      "metadata": {
        "colab": {
          "base_uri": "https://localhost:8080/"
        },
        "id": "W9arsarC5mom",
        "outputId": "224569b9-416d-4428-a425-19ecd65cc8eb"
      },
      "execution_count": 1,
      "outputs": [
        {
          "output_type": "stream",
          "name": "stdout",
          "text": [
            "Hello! My name is Sunvick\n",
            "I am Sunvick\n"
          ]
        }
      ]
    },
    {
      "cell_type": "markdown",
      "source": [
        "**Modify an Object Property**"
      ],
      "metadata": {
        "id": "MMeiD6z-6SJh"
      }
    },
    {
      "cell_type": "code",
      "source": [
        "class Car():\n",
        "  def __init__(self,name,color):\n",
        "    self.name = name\n",
        "    self.color = color\n",
        "\n",
        "  def description(self):\n",
        "    return self.name + self.color\n",
        "\n",
        "  def show(self):\n",
        "    print(\"The name and color of the car is\", self.description())\n",
        "\n",
        "obj1 = Car(\"Honda City\",\" red\")\n",
        "obj1.show()"
      ],
      "metadata": {
        "colab": {
          "base_uri": "https://localhost:8080/"
        },
        "id": "uF6zgLCl6Tfq",
        "outputId": "e83eb42d-0556-4c40-a353-b88bc72117d6"
      },
      "execution_count": 6,
      "outputs": [
        {
          "output_type": "stream",
          "name": "stdout",
          "text": [
            "The name and color of the car is Honda City red\n"
          ]
        }
      ]
    },
    {
      "cell_type": "markdown",
      "source": [
        "**Applcation 1- Write a program that computes for the Area and Perimeter of a Square, and create a class name Square with side as its attribute**"
      ],
      "metadata": {
        "id": "S4UjjGjG6XqA"
      }
    },
    {
      "cell_type": "code",
      "source": [
        "#Area of a Square = s*S\n",
        "#Perimeter of a Square = 4*s = s+s+s+s\n",
        "\n",
        "class Square:\n",
        "  def __init__(self, side):\n",
        "    self.side = side\n",
        "\n",
        "  def Area(self):\n",
        "    return self.side * self.side\n",
        "\n",
        "  def Perimeter(self):\n",
        "    return 4*(self.side)\n",
        "\n",
        "  def display(self):\n",
        "    print(\"The area of a square is\", self.Area())\n",
        "    print(\"The perimeter of a square is\", self.Perimeter())\n",
        "\n",
        "sq1 = Square(2)\n",
        "sq1.display()"
      ],
      "metadata": {
        "colab": {
          "base_uri": "https://localhost:8080/"
        },
        "id": "mprTEIXN7L7J",
        "outputId": "3d3c5960-442b-4a92-d81c-dd2f616537ac"
      },
      "execution_count": 7,
      "outputs": [
        {
          "output_type": "stream",
          "name": "stdout",
          "text": [
            "The area of a square is 4\n",
            "The perimeter of a square is 8\n"
          ]
        }
      ]
    },
    {
      "cell_type": "markdown",
      "source": [
        "**Application 2 - Write a Python program that displays your student no. and Fullname (Surname, First Name, MI) and create a class name OOP_58001**"
      ],
      "metadata": {
        "id": "FfB4Jylt9xhe"
      }
    },
    {
      "cell_type": "code",
      "source": [
        "class OOP_58001():                  \n",
        "  def __init__(self,number,name):\n",
        "    self.number = number             \n",
        "    self.name = name                  \n",
        "\n",
        "  def StudentNumber(self):\n",
        "    return self.number\n",
        "\n",
        "  def FullName(self):\n",
        "    return self.name\n",
        "  \n",
        "  def display(self):\n",
        "    print(\"I am from class OOP_58001\")\n",
        "    print(\"My Student Number is\", self.StudentNumber())\n",
        "    print(\"My Full Name is\", self.FullName())\n",
        "\n",
        "info = OOP_58001(\"202117757\", \"Gencianeo, Sunvick Abusca.\")     \n",
        "info.display()"
      ],
      "metadata": {
        "colab": {
          "base_uri": "https://localhost:8080/"
        },
        "id": "INqJ56ip9zru",
        "outputId": "30bc6046-05a7-4caf-ecaf-709f9c9367fa"
      },
      "execution_count": 8,
      "outputs": [
        {
          "output_type": "stream",
          "name": "stdout",
          "text": [
            "I am from class OOP_58001\n",
            "My Student Number is 202117757\n",
            "My Full Name is Gencianeo, Sunvick Abusca.\n"
          ]
        }
      ]
    }
  ]
}