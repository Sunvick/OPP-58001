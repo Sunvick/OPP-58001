{
  "nbformat": 4,
  "nbformat_minor": 0,
  "metadata": {
    "colab": {
      "name": "Quiz 1.ipynb",
      "provenance": [],
      "authorship_tag": "ABX9TyPCZunhKgZ5lLQSH1QlruPD",
      "include_colab_link": true
    },
    "kernelspec": {
      "name": "python3",
      "display_name": "Python 3"
    },
    "language_info": {
      "name": "python"
    }
  },
  "cells": [
    {
      "cell_type": "markdown",
      "metadata": {
        "id": "view-in-github",
        "colab_type": "text"
      },
      "source": [
        "<a href=\"https://colab.research.google.com/github/Sunvick/OPP-58001/blob/main/Quiz_1.ipynb\" target=\"_parent\"><img src=\"https://colab.research.google.com/assets/colab-badge.svg\" alt=\"Open In Colab\"/></a>"
      ]
    },
    {
      "cell_type": "markdown",
      "source": [
        "* **Write a Python program that asks the user to enter the radius of a circle and solve its area and perimeter.**\n",
        "\n",
        "\n"
      ],
      "metadata": {
        "id": "Vz8XXNe3JAbM"
      }
    },
    {
      "cell_type": "markdown",
      "source": [
        "* **Create a class name Circle allowing you to build a circle with radius and pi attributes.**"
      ],
      "metadata": {
        "id": "5hoUcwJqKidk"
      }
    },
    {
      "cell_type": "markdown",
      "source": [
        "* **Create a method Display() the perimeter and area using an instantiation of a class.**\n",
        "\n"
      ],
      "metadata": {
        "id": "SCIfy2BsLF_j"
      }
    },
    {
      "cell_type": "markdown",
      "source": [
        "* **Create a Perimeter() method to calculate the perimeter of the circle and an Area() method to calculate the area of ​​the circle.**"
      ],
      "metadata": {
        "id": "IfzxqZCKLu4J"
      }
    },
    {
      "cell_type": "code",
      "execution_count": 1,
      "metadata": {
        "colab": {
          "base_uri": "https://localhost:8080/"
        },
        "id": "FDw51nexIYPn",
        "outputId": "d1fb16cb-414d-44b9-fe35-4bfaf2cd2d19"
      },
      "outputs": [
        {
          "output_type": "stream",
          "name": "stdout",
          "text": [
            "3\n",
            "The perimeter of the circle is 18.84\n",
            "The area of the circle is 28.26\n"
          ]
        }
      ],
      "source": [
        "class Circle():\n",
        "  def __init__ (self, radius):\n",
        "    self.radius = int (radius)\n",
        "\n",
        "  def Perimeter (self):\n",
        "    return 2 * pi * self.radius\n",
        "  \n",
        "  def Area (self):\n",
        "    return pi * (self.radius ** 2)\n",
        "\n",
        "  def display (self):\n",
        "    print (\"The perimeter of the circle is\", self.Perimeter())\n",
        "    print (\"The area of the circle is\", self.Area())\n",
        "\n",
        "pi = 3.14\n",
        "round= Circle (input())\n",
        "round.display()"
      ]
    }
  ]
}