{
  "nbformat": 4,
  "nbformat_minor": 0,
  "metadata": {
    "colab": {
      "name": "Application 1",
      "provenance": [],
      "authorship_tag": "ABX9TyPC2/lqUYayMh9CbP9Z2iXA",
      "include_colab_link": true
    },
    "kernelspec": {
      "name": "python3",
      "display_name": "Python 3"
    },
    "language_info": {
      "name": "python"
    }
  },
  "cells": [
    {
      "cell_type": "markdown",
      "metadata": {
        "id": "view-in-github",
        "colab_type": "text"
      },
      "source": [
        "<a href=\"https://colab.research.google.com/github/Sunvick/OPP-58001/blob/main/Application_1.ipynb\" target=\"_parent\"><img src=\"https://colab.research.google.com/assets/colab-badge.svg\" alt=\"Open In Colab\"/></a>"
      ]
    },
    {
      "cell_type": "code",
      "execution_count": 1,
      "metadata": {
        "colab": {
          "base_uri": "https://localhost:8080/"
        },
        "id": "psO84hCdU-ol",
        "outputId": "3c7ebc2d-c7b8-403e-ed9e-247e1a37be04"
      },
      "outputs": [
        {
          "output_type": "stream",
          "name": "stdout",
          "text": [
            "Miguel has an average grade of 24.3 in prelims\n",
            "Miguel has an average grade of 29.099999999999998 in midterms\n",
            "Miguel has an average grade of 35.2 in finals\n"
          ]
        }
      ],
      "source": [
        "import random\n",
        "\n",
        "class Person:\n",
        "  def __init__ (self, student, pre, mid, fin):\n",
        "    self.student = student\n",
        "    self.pre = pre *0.30\n",
        "    self.mid = mid *0.30\n",
        "    self.fin = fin *0.40\n",
        "\n",
        "  def Grade (self):\n",
        "    print (self.student, \"has an average grade of\", self.pre, \"in prelims\")\n",
        "    print (self.student, \"has an average grade of\", self.mid, \"in midterms\")\n",
        "    print (self.student, \"has an average grade of\", self.fin, \"in finals\")\n",
        "\n",
        "std1 = Person (\"Miguel\", random.randint(75,99), random.randint(75,99), random.randint(75,99))\n",
        "std2 = Person (\"Franz\", random.randint(75,99), random.randint(75,99), random.randint(75,99))\n",
        "std3 = Person (\"Elijah\", random.randint(75,99), random.randint(75,99), random.randint(75,99))\n",
        "\n",
        "std1.Grade()"
      ]
    }
  ]
}