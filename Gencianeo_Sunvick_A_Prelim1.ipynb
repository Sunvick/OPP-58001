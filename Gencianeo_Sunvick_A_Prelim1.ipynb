{
  "nbformat": 4,
  "nbformat_minor": 0,
  "metadata": {
    "colab": {
      "name": "Gencianeo Sunvick A. Prelim1",
      "provenance": [],
      "authorship_tag": "ABX9TyMsWRxsas+qmle1bMDhbPQz",
      "include_colab_link": true
    },
    "kernelspec": {
      "name": "python3",
      "display_name": "Python 3"
    },
    "language_info": {
      "name": "python"
    }
  },
  "cells": [
    {
      "cell_type": "markdown",
      "metadata": {
        "id": "view-in-github",
        "colab_type": "text"
      },
      "source": [
        "<a href=\"https://colab.research.google.com/github/Sunvick/OPP-58001/blob/main/Gencianeo_Sunvick_A_Prelim1.ipynb\" target=\"_parent\"><img src=\"https://colab.research.google.com/assets/colab-badge.svg\" alt=\"Open In Colab\"/></a>"
      ]
    },
    {
      "cell_type": "code",
      "source": [
        "class Student:\n",
        "   def __init__ (self, Name, Student_No, Age, School, Course):\n",
        "    self.Name = Name\n",
        "    self.Student_No = Student_No\n",
        "    self.Age = Age\n",
        "    self.School = School\n",
        "    self.Course = Course\n",
        "   def self (self):\n",
        "    print (\"Name: \", self.Name)\n",
        "    print (\"Student Number: \", self.Student_No)\n",
        "    print (\"Age : \", self.Age)\n",
        "    print (\"School: \", self.School)\n",
        "    print (\"Course: \", self.Course)\n",
        "\n",
        "Myself = Student (\"Gencianeo Sunvick A.\", 202117757, 18, \"Adamson University\", \"BS in Computer Engineering\")\n",
        "Myself.self ()"
      ],
      "metadata": {
        "colab": {
          "base_uri": "https://localhost:8080/"
        },
        "id": "PFgdPPXJOtcJ",
        "outputId": "353beaff-46e1-4e68-e77a-bb49e80c17a8"
      },
      "execution_count": 1,
      "outputs": [
        {
          "output_type": "stream",
          "name": "stdout",
          "text": [
            "Name:  Gencianeo Sunvick A.\n",
            "Student Number:  202117757\n",
            "Age :  18\n",
            "School:  Adamson University\n",
            "Course:  BS in Computer Engineering\n"
          ]
        }
      ]
    }
  ]
}